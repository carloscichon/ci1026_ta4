{
 "cells": [
  {
   "cell_type": "code",
   "execution_count": 4,
   "id": "3eb0d0ad",
   "metadata": {
    "tags": []
   },
   "outputs": [],
   "source": [
    "from sklearn.datasets import load_iris\n",
    "from sklearn.model_selection import train_test_split\n",
    "from sklearn.neighbors import KNeighborsClassifier\n",
    "from sklearn.model_selection import cross_val_score\n",
    "from sklearn.decomposition import PCA\n",
    "from sklearn import metrics\n",
    "import pandas as pd\n",
    "import numpy as np\n",
    "import matplotlib.pyplot as plt\n",
    "import matplotlib.ticker as mticker\n"
   ]
  },
  {
   "cell_type": "code",
   "execution_count": 5,
   "id": "3ffdcb13-36d1-4904-b4e8-89915e903434",
   "metadata": {
    "tags": []
   },
   "outputs": [],
   "source": [
    "iris = load_iris(as_frame=True)\n",
    "\n",
    "X = iris[\"data\"]\n",
    "y = iris[\"target\"]\n"
   ]
  },
  {
   "cell_type": "code",
   "execution_count": 6,
   "id": "854ca20d-d733-4ebc-9477-38ef2d815ad5",
   "metadata": {
    "tags": []
   },
   "outputs": [
    {
     "name": "stdout",
     "output_type": "stream",
     "text": [
      "------- Geral -------\n",
      "Média de comprimento da sépala:  5.843333333333334\n",
      "Média de largura da sépala:  3.0573333333333337\n",
      "Média de comprimento da pétala:  3.7580000000000005\n",
      "Média de largura da pétala:  1.1993333333333336\n",
      "\n",
      "Moda de comprimento da sépala:  5.0\n",
      "Moda de largura da sépala:  3.0\n",
      "Moda de comprimento da pétala:  1.4\n",
      "Moda de largura da pétala:  0.2\n",
      "\n",
      "SD de comprimento da sépala:  0.828066127977863\n",
      "SD de largura da sépala:  0.4358662849366982\n",
      "SD de comprimento da pétala:  1.7652982332594662\n",
      "SD de largura da pétala:  0.7622376689603465\n",
      "\n",
      "------- Setosa -------\n",
      "Média de comprimento da sépala:  5.006\n",
      "Média de largura da sépala:  3.428\n",
      "Média de comprimento da pétala:  1.4620000000000002\n",
      "Média de largura da pétala:  0.24599999999999997\n",
      "\n",
      "Moda de comprimento da sépala:  5.0\n",
      "Moda de largura da sépala:  3.4\n",
      "Moda de comprimento da pétala:  1.4\n",
      "Moda de largura da pétala:  0.2\n",
      "\n",
      "SD de comprimento da sépala:  0.35248968721345136\n",
      "SD de largura da sépala:  0.3790643690962887\n",
      "SD de comprimento da pétala:  0.17366399648018407\n",
      "SD de largura da pétala:  0.10538558938004565\n",
      "\n",
      "Razão comprimento / largura sépala:  1.4603267211201867\n",
      "Razão comprimento / largura pétala:  5.94308943089431\n",
      "\n",
      "------- Versicolor -------\n",
      "Média de comprimento da sépala:  5.936\n",
      "Média de largura da sépala:  2.7700000000000005\n",
      "Média de comprimento da pétala:  4.26\n",
      "Média de largura da pétala:  1.3259999999999998\n",
      "\n",
      "Moda de comprimento da sépala:  5.5\n",
      "Moda de largura da sépala:  3.0\n",
      "Moda de comprimento da pétala:  4.5\n",
      "Moda de largura da pétala:  1.3\n",
      "\n",
      "SD de comprimento da sépala:  0.5161711470638634\n",
      "SD de largura da sépala:  0.3137983233784114\n",
      "SD de comprimento da pétala:  0.46991097723995795\n",
      "SD de largura da pétala:  0.19775268000454405\n",
      "\n",
      "Razão comprimento / largura sépala:  2.142960288808664\n",
      "Razão comprimento / largura pétala:  3.2126696832579187\n",
      "\n",
      "------- Virgnica -------\n",
      "Média de comprimento da sépala:  6.587999999999998\n",
      "Média de largura da sépala:  2.974\n",
      "Média de comprimento da pétala:  5.5520000000000005\n",
      "Média de largura da pétala:  2.0260000000000002\n",
      "\n",
      "Moda de comprimento da sépala:  6.3\n",
      "Moda de largura da sépala:  3.0\n",
      "Moda de comprimento da pétala:  5.1\n",
      "Moda de largura da pétala:  1.8\n",
      "\n",
      "SD de comprimento da sépala:  0.6358795932744322\n",
      "SD de largura da sépala:  0.32249663817263746\n",
      "SD de comprimento da pétala:  0.5518946956639834\n",
      "SD de largura da pétala:  0.2746500556366674\n",
      "\n",
      "Razão comprimento / largura sépala:  2.215198386012104\n",
      "Razão comprimento / largura pétala:  2.7403751233958538\n",
      "\n",
      "------- Frequência -------\n",
      "Total:  150\n",
      "Setosa:  50 / 150   33.33333333333333 %\n",
      "Versicolor:  50 / 150   33.33333333333333 %\n",
      "Virginica:  50 / 50   33.33333333333333 %\n"
     ]
    }
   ],
   "source": [
    "#Métricas\n",
    "\n",
    "#media, dp e moda geral\n",
    "\n",
    "sl = X[\"sepal length (cm)\"]\n",
    "sw = X[\"sepal width (cm)\"]\n",
    "pl = X[\"petal length (cm)\"]\n",
    "pw = X[\"petal width (cm)\"]\n",
    "\n",
    "print(\"------- Geral -------\")\n",
    "print(\"Média de comprimento da sépala: \", sl.mean())\n",
    "print(\"Média de largura da sépala: \", sw.mean())\n",
    "print(\"Média de comprimento da pétala: \", pl.mean())\n",
    "print(\"Média de largura da pétala: \", pw.mean())\n",
    "print(\"\")\n",
    "print(\"Moda de comprimento da sépala: \", sl.mode()[0])\n",
    "print(\"Moda de largura da sépala: \", sw.mode()[0])\n",
    "print(\"Moda de comprimento da pétala: \", pl.mode()[0])\n",
    "print(\"Moda de largura da pétala: \", pw.mode()[0])\n",
    "print(\"\")\n",
    "print(\"SD de comprimento da sépala: \", sl.std())\n",
    "print(\"SD de largura da sépala: \", sw.std())\n",
    "print(\"SD de comprimento da pétala: \", pl.std())\n",
    "print(\"SD de largura da pétala: \", pw.std())\n",
    "print(\"\")\n",
    "\n",
    "frame = iris[\"frame\"]\n",
    "setosa = frame[frame[\"target\"] == 0]\n",
    "versicolor = frame[frame[\"target\"] == 1]\n",
    "virginica = frame[frame[\"target\"] == 2]\n",
    "\n",
    "#media, dp e moda setosa\n",
    "sls = setosa[\"sepal length (cm)\"]\n",
    "sws = setosa[\"sepal width (cm)\"]\n",
    "pls = setosa[\"petal length (cm)\"]\n",
    "pws = setosa[\"petal width (cm)\"]\n",
    "\n",
    "print(\"------- Setosa -------\")\n",
    "print(\"Média de comprimento da sépala: \", sls.mean())\n",
    "print(\"Média de largura da sépala: \", sws.mean())\n",
    "print(\"Média de comprimento da pétala: \", pls.mean())\n",
    "print(\"Média de largura da pétala: \", pws.mean())\n",
    "print(\"\")\n",
    "print(\"Moda de comprimento da sépala: \", sls.mode()[0])\n",
    "print(\"Moda de largura da sépala: \", sws.mode()[0])\n",
    "print(\"Moda de comprimento da pétala: \", pls.mode()[0])\n",
    "print(\"Moda de largura da pétala: \", pws.mode()[0])\n",
    "print(\"\")\n",
    "print(\"SD de comprimento da sépala: \", sls.std())\n",
    "print(\"SD de largura da sépala: \", sws.std())\n",
    "print(\"SD de comprimento da pétala: \", pls.std())\n",
    "print(\"SD de largura da pétala: \", pws.std())\n",
    "print(\"\")\n",
    "print(\"Razão comprimento / largura sépala: \", sls.mean()/sws.mean())\n",
    "print(\"Razão comprimento / largura pétala: \", pls.mean()/pws.mean())\n",
    "print(\"\")\n",
    "\n",
    "#media, dp e moda versicolor\n",
    "slv = versicolor[\"sepal length (cm)\"]\n",
    "swv = versicolor[\"sepal width (cm)\"]\n",
    "plv = versicolor[\"petal length (cm)\"]\n",
    "pwv = versicolor[\"petal width (cm)\"]\n",
    "\n",
    "print(\"------- Versicolor -------\")\n",
    "print(\"Média de comprimento da sépala: \", slv.mean())\n",
    "print(\"Média de largura da sépala: \", swv.mean())\n",
    "print(\"Média de comprimento da pétala: \", plv.mean())\n",
    "print(\"Média de largura da pétala: \", pwv.mean())\n",
    "print(\"\")\n",
    "print(\"Moda de comprimento da sépala: \", slv.mode()[0])\n",
    "print(\"Moda de largura da sépala: \", swv.mode()[0])\n",
    "print(\"Moda de comprimento da pétala: \", plv.mode()[0])\n",
    "print(\"Moda de largura da pétala: \", pwv.mode()[0])\n",
    "print(\"\")\n",
    "print(\"SD de comprimento da sépala: \", slv.std())\n",
    "print(\"SD de largura da sépala: \", swv.std())\n",
    "print(\"SD de comprimento da pétala: \", plv.std())\n",
    "print(\"SD de largura da pétala: \", pwv.std())\n",
    "print(\"\")\n",
    "print(\"Razão comprimento / largura sépala: \", slv.mean()/swv.mean())\n",
    "print(\"Razão comprimento / largura pétala: \", plv.mean()/pwv.mean())\n",
    "print(\"\")\n",
    "\n",
    "#media, dp e moda virginica\n",
    "slvg = virginica[\"sepal length (cm)\"]\n",
    "swvg = virginica[\"sepal width (cm)\"]\n",
    "plvg = virginica[\"petal length (cm)\"]\n",
    "pwvg = virginica[\"petal width (cm)\"]\n",
    "\n",
    "print(\"------- Virgnica -------\")\n",
    "print(\"Média de comprimento da sépala: \", slvg.mean())\n",
    "print(\"Média de largura da sépala: \", swvg.mean())\n",
    "print(\"Média de comprimento da pétala: \", plvg.mean())\n",
    "print(\"Média de largura da pétala: \", pwvg.mean())\n",
    "print(\"\")\n",
    "print(\"Moda de comprimento da sépala: \", slvg.mode()[0])\n",
    "print(\"Moda de largura da sépala: \", swvg.mode()[0])\n",
    "print(\"Moda de comprimento da pétala: \", plvg.mode()[0])\n",
    "print(\"Moda de largura da pétala: \", pwvg.mode()[0])\n",
    "print(\"\")\n",
    "print(\"SD de comprimento da sépala: \", slvg.std())\n",
    "print(\"SD de largura da sépala: \", swvg.std())\n",
    "print(\"SD de comprimento da pétala: \", plvg.std())\n",
    "print(\"SD de largura da pétala: \", pwvg.std())\n",
    "print(\"\")\n",
    "print(\"Razão comprimento / largura sépala: \", slvg.mean()/swvg.mean())\n",
    "print(\"Razão comprimento / largura pétala: \", plvg.mean()/pwvg.mean())\n",
    "print(\"\")\n",
    "\n",
    "\n",
    "print(\"------- Frequência -------\")\n",
    "print(\"Total: \", len(frame))\n",
    "print(\"Setosa: \", len(setosa), \"/\", len(frame), \" \", len(setosa)/len(frame)*100, \"%\")\n",
    "print(\"Versicolor: \", len(versicolor), \"/\", len(frame), \" \", len(versicolor)/len(frame)*100, \"%\")\n",
    "print(\"Virginica: \", len(virginica), \"/\", len(virginica), \" \", len(virginica)/len(frame)*100, \"%\")"
   ]
  },
  {
   "cell_type": "code",
   "execution_count": 21,
   "id": "519b76ca-b68b-48c5-8b4b-f7c9b65edb80",
   "metadata": {
    "tags": []
   },
   "outputs": [
    {
     "name": "stdout",
     "output_type": "stream",
     "text": [
      "[0.9333333333333333, 0.9333333333333333, 0.9666666666666667, 0.9666666666666667, 0.9666666666666667]\n",
      "range(1, 6)\n"
     ]
    }
   ],
   "source": [
    "#knn\n",
    "\n",
    "#separa 20% para teste\n",
    "X_train, X_test, y_train, y_test = train_test_split(X,y,test_size=0.2, random_state=4)\n",
    "\n",
    "k_range = range(1,6)\n",
    "scores_list = []\n",
    "\n",
    "for k in k_range:\n",
    "    knn = KNeighborsClassifier(n_neighbors=k)\n",
    "    knn.fit(X_train, y_train)\n",
    "    y_pred = knn.predict(X_test)\n",
    "    scores_list.append(metrics.accuracy_score(y_test, y_pred))\n",
    "\n",
    "print(scores_list)\n",
    "print(k_range)"
   ]
  },
  {
   "cell_type": "code",
   "execution_count": 22,
   "id": "c75f52ac",
   "metadata": {
    "tags": []
   },
   "outputs": [
    {
     "data": {
      "text/plain": [
       "Text(0, 0.5, 'Acurácia')"
      ]
     },
     "execution_count": 22,
     "metadata": {},
     "output_type": "execute_result"
    },
    {
     "data": {
      "image/png": "[encoded data removed]",
      "text/plain": [
       "<Figure size 640x480 with 1 Axes>"
      ]
     },
     "metadata": {},
     "output_type": "display_data"
    }
   ],
   "source": [
    "plt.plot(k_range, scores_list)\n",
    "plt.gca().xaxis.set_major_locator(mticker.MultipleLocator(1))\n",
    "plt.xlabel(\"Valor de K\")\n",
    "plt.ylabel(\"Acurácia\")\n"
   ]
  },
  {
   "cell_type": "code",
   "execution_count": null,
   "id": "0ecc00c9",
   "metadata": {},
   "outputs": [],
   "source": []
  },
  {
   "cell_type": "code",
   "execution_count": null,
   "id": "bb0109d6",
   "metadata": {},
   "outputs": [],
   "source": []
  }
 ],
 "metadata": {
  "kernelspec": {
   "display_name": "Python 3 (ipykernel)",
   "language": "python",
   "name": "python3"
  },
  "language_info": {
   "codemirror_mode": {
    "name": "ipython",
    "version": 3
   },
   "file_extension": ".py",
   "mimetype": "text/x-python",
   "name": "python",
   "nbconvert_exporter": "python",
   "pygments_lexer": "ipython3",
   "version": "3.10.7"
  }
 },
 "nbformat": 4,
 "nbformat_minor": 5
}
